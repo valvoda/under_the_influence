{
 "cells": [
  {
   "cell_type": "code",
   "execution_count": 22,
   "id": "a5643bcc",
   "metadata": {
    "scrolled": true
   },
   "outputs": [],
   "source": [
    "import sys\n",
    "sys.path.append(\"../../../src\")\n",
    "import pickle\n",
    "import torch\n",
    "from preprocess.data_loader import DataPrep"
   ]
  },
  {
   "cell_type": "code",
   "execution_count": 23,
   "id": "a59d9c05",
   "metadata": {},
   "outputs": [],
   "source": [
    "emb_path = '../../train/trained_models/precedent/bert/facts/927927e50ca941ceb7a0b09b51fe54fb/embeddings.pkl'\n",
    "\n",
    "with open(emb_path, 'rb') as f:\n",
    "    emb_dict = pickle.load(f)"
   ]
  },
  {
   "cell_type": "code",
   "execution_count": 24,
   "id": "ab83eda1",
   "metadata": {},
   "outputs": [
    {
     "name": "stdout",
     "output_type": "stream",
     "text": [
      "Facts in training data\n"
     ]
    }
   ],
   "source": [
    "tokenized_dir = \"../../datasets/precedent/bert\"\n",
    "loader = DataPrep(tokenized_dir, test=False, log=None, max_len=512, batch_size=2, input='facts', not_random=True)\n",
    "train_dataloader, val_dataloader, test_dataloader = loader.load()"
   ]
  },
  {
   "cell_type": "code",
   "execution_count": 25,
   "id": "d54bdfde",
   "metadata": {},
   "outputs": [
    {
     "data": {
      "text/plain": [
       "dict_keys(['W1', 'W2', 'train_dataloader', 'val_dataloader', 'test_dataloader'])"
      ]
     },
     "execution_count": 25,
     "metadata": {},
     "output_type": "execute_result"
    }
   ],
   "source": [
    "emb_dict.keys()"
   ]
  },
  {
   "cell_type": "code",
   "execution_count": 26,
   "id": "d078bca4",
   "metadata": {},
   "outputs": [
    {
     "data": {
      "text/plain": [
       "torch.Size([913, 768])"
      ]
     },
     "execution_count": 26,
     "metadata": {},
     "output_type": "execute_result"
    }
   ],
   "source": [
    "emb_dict['test_dataloader'].shape"
   ]
  },
  {
   "cell_type": "code",
   "execution_count": 27,
   "id": "02e8a3da",
   "metadata": {},
   "outputs": [
    {
     "data": {
      "text/plain": [
       "tensor([[0, 0, 0, 0, 0, 0, 0, 0, 0, 0, 0, 0, 0, 0],\n",
       "        [0, 0, 0, 0, 1, 0, 0, 1, 0, 0, 0, 0, 0, 0],\n",
       "        [0, 0, 1, 0, 0, 1, 0, 0, 0, 0, 0, 0, 0, 0],\n",
       "        [0, 0, 0, 0, 0, 1, 0, 0, 0, 0, 0, 0, 0, 0],\n",
       "        [0, 0, 1, 0, 0, 0, 0, 1, 0, 0, 0, 0, 0, 0]])"
      ]
     },
     "execution_count": 27,
     "metadata": {},
     "output_type": "execute_result"
    }
   ],
   "source": [
    "train_dataloader.dataset[:5][-2]"
   ]
  },
  {
   "cell_type": "code",
   "execution_count": 28,
   "id": "b6a25cf0",
   "metadata": {},
   "outputs": [
    {
     "name": "stdout",
     "output_type": "stream",
     "text": [
      "W1 :    torch.Size([300, 768])\n",
      "W2 :    torch.Size([14, 300])\n",
      "train_dataloader :    torch.Size([8344, 768])\n",
      "val_dataloader :    torch.Size([904, 768])\n",
      "test_dataloader :    torch.Size([913, 768])\n"
     ]
    }
   ],
   "source": [
    "for n, d in zip(emb_dict.keys(), emb_dict.values()):\n",
    "    print(n, \":   \", d.shape)"
   ]
  },
  {
   "cell_type": "code",
   "execution_count": null,
   "id": "f4a22286",
   "metadata": {},
   "outputs": [],
   "source": []
  }
 ],
 "metadata": {
  "kernelspec": {
   "display_name": "Python 3 (ipykernel)",
   "language": "python",
   "name": "python3"
  },
  "language_info": {
   "codemirror_mode": {
    "name": "ipython",
    "version": 3
   },
   "file_extension": ".py",
   "mimetype": "text/x-python",
   "name": "python",
   "nbconvert_exporter": "python",
   "pygments_lexer": "ipython3",
   "version": "3.8.13"
  }
 },
 "nbformat": 4,
 "nbformat_minor": 5
}
